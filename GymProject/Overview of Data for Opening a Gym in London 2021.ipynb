{
    "cells": [
        {
            "cell_type": "markdown",
            "metadata": {
                "collapsed": true
            },
            "source": "# The Data"
        },
        {
            "cell_type": "markdown",
            "metadata": {},
            "source": "## \tThe Health Index 2015 - 2018.  Source: The Office of National Statistics "
        },
        {
            "cell_type": "markdown",
            "metadata": {},
            "source": "Source: https://www.ons.gov.uk/peoplepopulationandcommunity/healthandsocialcare/healthandwellbeing/datasets/healthindexengland"
        },
        {
            "cell_type": "markdown",
            "metadata": {},
            "source": "The health index is an experimental statistic that is used to measure a broad definition of health, that can be tracked over time and compared between different area. This will be used to offer an idea the varying level of health between the boroughs. Please note, that measuring health in a form that allows for comparison is incredibly difficult and thus, this should only be taken as an estimate of the overall health levels in each borough. \n\nThe Health Index has been scaled to a base of 100 for England, with base year of 2015. Values higher than 100 indicate better health than England 2015, and values below 100 indicate worse health. The scale is such that a score of 110 represents a score one standard deviation higher than England 2015\u2019s score for that same indicator. In this way comparisons both over time and within a single year are simple to understand. \n\nWhile this dataset is incredibly diverse and much of the data can be scoured for further insights. For the scope of this project, we will be looking at the three main domain scores \n\n<ul>\n<li>Healthy People \u2013 focusing on health outcomes</li>\t\t\t\t\t\t\t\t\t\n<li>Healthy Lives \u2013 health-related behaviours and personal circumstances</li>\t\t\t\t\t\t\t\t\t\n<li>Healthy Places \u2013 wider determinants of health, environmental factors</li>\t\t\t\t\t\t\t\t\t\n</ul> \n \nAnd their overall scores between 2015 \u2013 2018. \n"
        },
        {
            "cell_type": "markdown",
            "metadata": {},
            "source": "##  Coronavirus (Covid-19) Cases and Vaccinations. Source: Greater London Authority "
        },
        {
            "cell_type": "markdown",
            "metadata": {},
            "source": "Source: https://data.london.gov.uk/dataset/coronavirus--covid-19--cases"
        },
        {
            "cell_type": "markdown",
            "metadata": {},
            "source": "Covid Vaccination data in London is going to be used for two prominent reasons. Firstly, this data will become useful in the long run to business who are looking to open a gym. Gyms, saw a massive decline in profit and attendance due to the lockdown measures. Having information about which areas in London have a higher covid vaccination rate may offer some peace of mind. As it is possible those area to have a lower covid reproduction rate. This in turn means that it is less likely (but not certain) that these areas will see less strict lockdown measures in the future. Meaning gyms in these areas may be able to remain open. \n\nThe second reason, in a similar vein, address clients. With Covid-19 being a worry, many people have realised that going to gyms carries the risk of catching covid. So, knowing which areas of London have a lower vaccination rate and thus may carry a future high covid \u2013 19 reproduction rates. It is possible to avoid gyms in those areas and subscribe to gyms in boroughs where vaccinations are high. \n\nThe dataset itself, is quite comprehensive, it is broken into two major categories: 1st dose and 2nd dose. For this project, we will only be considering those who have had two doses as vaccinated. And will only be looking at the cumulative number of vaccinations per borough.\n"
        },
        {
            "cell_type": "markdown",
            "metadata": {},
            "source": "## \tFourSquare API Gym"
        },
        {
            "cell_type": "markdown",
            "metadata": {},
            "source": "This data will simply leverage the foursquare API to create a dataset of all the registered gyms in London per borough and will be used to rate, list and visualise them. "
        },
        {
            "cell_type": "code",
            "execution_count": null,
            "metadata": {},
            "outputs": [],
            "source": ""
        }
    ],
    "metadata": {
        "kernelspec": {
            "display_name": "Python 3.7",
            "language": "python",
            "name": "python3"
        },
        "language_info": {
            "codemirror_mode": {
                "name": "ipython",
                "version": 3
            },
            "file_extension": ".py",
            "mimetype": "text/x-python",
            "name": "python",
            "nbconvert_exporter": "python",
            "pygments_lexer": "ipython3",
            "version": "3.7.10"
        }
    },
    "nbformat": 4,
    "nbformat_minor": 1
}