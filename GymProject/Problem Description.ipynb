{
    "cells": [
        {
            "cell_type": "markdown",
            "metadata": {
                "collapsed": true
            },
            "source": "# Capstone Project: Opening a Gym in London 2021"
        },
        {
            "cell_type": "markdown",
            "metadata": {},
            "source": "## Background Information: "
        },
        {
            "cell_type": "markdown",
            "metadata": {},
            "source": "London is a sprawling city with a population of roughly 8.96 million people. It is by far the largest city in the UK. Being a metropolitan city, it is home to a massive array of restaurants, cafes, and fast-food places. All of which serve a wide variety of cuisines to suite London\u2019s incredibly diverse population. \n\nThe availability and ease at which it is to dine out in london might explain why in 2017/2018 roughly 56% of adults were classified as overweight or obese. And, by contrast, a significantly higher number percentage of young children were classed as overweight or obese. \n\nFurthermore, with the recent Covid-19 pandemic and the lockdown measures that followed. For both schools and sports facilities. It is reasonable to assume that many of London\u2019s residences saw a decline in their physical activity levels, it is important to note that many have used the extra time afford to work out from home.\n\nSo, if someone either living in London or is thinking of moving to London and is either looking to stay in shape or become more active it might be useful if they have some information about the availability of Gyms and their quality.\n\nMoreover, with the potential of contracting Covid and the UK\u2019s lockdown policies. Prior information of vaccination data per region might help in making more informed decision. Such as, choosing a gym in an area which boasts a higher vaccination registration than other. \nThus, using data from the Office of National Statistics, London Datastore, and the Foursquare API, gyms will be listed and visualised. \n"
        },
        {
            "cell_type": "markdown",
            "metadata": {},
            "source": "## The Problem Description: "
        },
        {
            "cell_type": "markdown",
            "metadata": {},
            "source": "Say perhaps you are someone who lives in London and is currently searching for a gym, or perhaps you have aspirations to be a gym owner. Where is the ideal place to open a gym during covid times? \n\nWell, by utilising, the average health index of each brough, the registered number of vaccinations per borough in London, and foursquare API. Gyms throughout the UK can be visualised, rated and listed."
        },
        {
            "cell_type": "markdown",
            "metadata": {},
            "source": "## The Target Audience: "
        },
        {
            "cell_type": "markdown",
            "metadata": {},
            "source": "There are three main audience\u2019s this project will target: \n1.\tLondon residents looking for a gym \n2.\tTravelers looking to join a gym \n3.\tPeople looking to open up a new gym "
        },
        {
            "cell_type": "code",
            "execution_count": null,
            "metadata": {},
            "outputs": [],
            "source": ""
        }
    ],
    "metadata": {
        "kernelspec": {
            "display_name": "Python 3.7",
            "language": "python",
            "name": "python3"
        },
        "language_info": {
            "codemirror_mode": {
                "name": "ipython",
                "version": 3
            },
            "file_extension": ".py",
            "mimetype": "text/x-python",
            "name": "python",
            "nbconvert_exporter": "python",
            "pygments_lexer": "ipython3",
            "version": "3.7.10"
        }
    },
    "nbformat": 4,
    "nbformat_minor": 1
}